{
 "cells": [
  {
   "attachments": {},
   "cell_type": "markdown",
   "metadata": {},
   "source": [
    "# <center> Библиотека Collections и NumPy <center/> "
   ]
  },
  {
   "attachments": {},
   "cell_type": "markdown",
   "metadata": {},
   "source": [
    "#### COUNTER"
   ]
  },
  {
   "cell_type": "code",
   "execution_count": 1,
   "metadata": {},
   "outputs": [
    {
     "name": "stdout",
     "output_type": "stream",
     "text": [
      "Counter({'red': 3, 'black': 3, 'blue': 2, 'white': 1})\n",
      "3\n",
      "0\n",
      "9\n",
      "dict_values([3, 2, 3, 1])\n",
      "red red red blue blue black black black white\n",
      "['red', 'blue', 'black', 'white']\n",
      "{'red': 3, 'blue': 2, 'black': 3, 'white': 1}\n",
      "[('red', 3), ('black', 3), ('blue', 2), ('white', 1)]\n",
      "[('red', 3), ('black', 3)]\n",
      "Counter()\n"
     ]
    }
   ],
   "source": [
    "from collections import Counter\n",
    "c = Counter()\n",
    "color = ['red', 'blue', 'black', 'black', 'black', 'red', 'blue', 'red', 'white']\n",
    "c = Counter(color)\n",
    "print(c)\n",
    "print(c['black'])  # Узнаём, сколько раз встретился конкретный элемент\n",
    "print(c['purple'])  # Обращаемся к счётчику по несуществующему ключу\n",
    "print(sum(c.values()))  # Узнаём сумму всех значений в объекте\n",
    "print(c.values())  # Узнаем число раз, когда встретился ключ \n",
    "# + можно узнавать разницу и складывать разные счётчики. \n",
    "print(*c.elements())  # Получаем список вссех элементов, которые содержатся в Counter. Эл-ты возвращаются в алфавитном порядке!\n",
    "print(list(c))  # Получаем список уникальных элементов с помощью list()\n",
    "print(dict(c))  # С помощью функции dict() превращаем Counter в обычный словарь\n",
    "print(c.most_common())  # Получаем список из кортежей элементов в порядке убывания их встречаемости\n",
    "print(c.most_common(2))  # Задаём желаемое число первых наиболее частых элементов, например, 2\n",
    "c.clear()  # функция clear() позволяет полностью обнулить счётчик\n",
    "print(c)"
   ]
  },
  {
   "attachments": {},
   "cell_type": "markdown",
   "metadata": {},
   "source": [
    "#### DEFAULTDICT"
   ]
  },
  {
   "cell_type": "code",
   "execution_count": 14,
   "metadata": {},
   "outputs": [
    {
     "name": "stdout",
     "output_type": "stream",
     "text": [
      "defaultdict(<class 'list'>, {1: ['Ivanov', 'Kuznetsova'], 4: ['Smirnov'], 3: ['Petrov', 'Markov'], 2: ['Nikitina', 'Pavlov']})\n",
      "['Petrov', 'Markov']\n",
      "[]\n",
      "[('blue', [2, 4]), ('red', [1]), ('yellow', [1, 3])]\n",
      "[('i', 4), ('m', 1), ('p', 2), ('s', 4)]\n",
      "[('blue', {2, 4}), ('red', {1, 3})]\n"
     ]
    },
    {
     "data": {
      "text/plain": [
       "'John ran to <missing>'"
      ]
     },
     "execution_count": 14,
     "metadata": {},
     "output_type": "execute_result"
    }
   ],
   "source": [
    "students = [('Ivanov',1),('Smirnov',4),('Petrov',3),('Kuznetsova',1),\n",
    "            ('Nikitina',2),('Markov',3),('Pavlov',2)]\n",
    "\n",
    "from collections import defaultdict\n",
    "groups = defaultdict(list) # также можно было бы применить set, dict\n",
    "for student, group in students:\n",
    "    groups[group].append(student)\n",
    "    \n",
    "print(groups)\n",
    "print(groups[3])  # получаем элемент по ключу\n",
    "print(groups[2021])  # если запрашиваемого ключа нет в словаре, KeyError не возникнет, но он добавится при последующем запросе\n",
    "\n",
    "# Используя list в качестве default_factory, легко сгруппировать последовательность пар ключ-значение в словарь списков\n",
    "\n",
    "s = [('yellow', 1), ('blue', 2), ('yellow', 3), ('blue', 4), ('red', 1)]\n",
    "d = defaultdict(list)\n",
    "for k, v in s:\n",
    "    d[k].append(v)\n",
    "\n",
    "print(sorted(d.items()))\n",
    "\n",
    "# Установка default_factory int делает defaultdict полезным для подсчета\n",
    "s = 'mississippi'\n",
    "d = defaultdict(int)\n",
    "for k in s:\n",
    "    d[k] += 1\n",
    "\n",
    "print(sorted(d.items()))\n",
    "\n",
    "# # Установка default_factory setделает defaultdict полезным для построения словаря множеств\n",
    "s = [('red', 1), ('blue', 2), ('red', 3), ('blue', 4), ('red', 1), ('blue', 4)]\n",
    "d = defaultdict(set)\n",
    "for k, v in s:\n",
    "    d[k].add(v)\n",
    "\n",
    "print(sorted(d.items()))\n",
    "\n",
    "# Более быстрым и гибким способом создания константных функций является использование лямбда-функции, \n",
    "# которая может предоставить любое постоянное значение (а не только ноль)\n",
    "def constant_factory(value):\n",
    "    return lambda: value\n",
    "d = defaultdict(constant_factory('<missing>'))\n",
    "d.update(name='John', action='ran')\n",
    "'%(name)s %(action)s to %(object)s' % d\n",
    "\n",
    "\n"
   ]
  },
  {
   "attachments": {},
   "cell_type": "markdown",
   "metadata": {},
   "source": [
    "#### ORDEREDDICT"
   ]
  },
  {
   "cell_type": "code",
   "execution_count": 15,
   "metadata": {},
   "outputs": [
    {
     "name": "stdout",
     "output_type": "stream",
     "text": [
      "OrderedDict([('Ivan', 19), ('Mark', 25), ('Andrey', 23), ('Maria', 20)])\n",
      "OrderedDict([('Ivan', 19), ('Maria', 20), ('Andrey', 23), ('Mark', 25)])\n",
      "OrderedDict([('Ivan', 19), ('Maria', 20), ('Andrey', 23), ('Mark', 25), ('Nikita', 18)])\n",
      "OrderedDict([('Ivan', 19), ('Maria', 20), ('Mark', 25), ('Nikita', 18)])\n",
      "OrderedDict([('Ivan', 19), ('Maria', 20), ('Mark', 25), ('Nikita', 18), ('Andrey', 23)])\n"
     ]
    }
   ],
   "source": [
    "from collections import OrderedDict\n",
    "data = [('Ivan', 19),('Mark', 25),('Andrey', 23),('Maria', 20)]\n",
    "ordered_client_ages = OrderedDict(data)\n",
    "print(ordered_client_ages)\n",
    "# Сортируем по второму значению из кортежа, то есть по возрасту\n",
    "ordered_client_ages = OrderedDict(sorted(data, key=lambda x: x[1]))\n",
    "print(ordered_client_ages)\n",
    "# Если теперь добавить нового человека в словарь\n",
    "ordered_client_ages['Nikita'] = 18\n",
    "print(ordered_client_ages)\n",
    "# Если удалить элемент, а затем добавить его снова, он также окажется в конце\n",
    "del ordered_client_ages['Andrey']\n",
    "print(ordered_client_ages)\n",
    "ordered_client_ages['Andrey'] = 23\n",
    "print(ordered_client_ages)"
   ]
  },
  {
   "attachments": {},
   "cell_type": "markdown",
   "metadata": {},
   "source": [
    "#### DEQUE"
   ]
  },
  {
   "cell_type": "code",
   "execution_count": 18,
   "metadata": {},
   "outputs": [
    {
     "name": "stdout",
     "output_type": "stream",
     "text": [
      "deque(['first element', 'last element'])\n",
      "last element\n",
      "deque([14, 13, 12, 11, 10, 9, 8, 'first element', 'last element', 1, 2, 3, 4, 5, 6, 7])\n",
      "14\n",
      "deque([12, 11, 10, 9, 8, 'first element', 'last element', 1, 2, 3, 4, 5, 6, 7])\n",
      "deque([], maxlen=3)\n",
      "deque([5, 6, 7], maxlen=3)\n",
      "deque([6, 7, 8], maxlen=3)\n",
      "deque(['t', 'r', 'e', 'w', 'q'])\n",
      "deque(['w', 'q', 't', 'r', 'e'])\n",
      "deque(['t', 'r', 'e', 'w', 'q'])\n",
      "2\n",
      "1\n",
      "deque([])\n"
     ]
    }
   ],
   "source": [
    "# Для создания пустого дэка(deque), необходимо импортировать его из библиотеи collections:\n",
    "from collections import deque\n",
    "dq = deque() # задаем название пустого дэка\n",
    "# append  - добавление элемента в конец дэка\n",
    "# appendleft - добавление элемента в начало дэка\n",
    "dq.append('last element')\n",
    "dq.appendleft('first element')\n",
    "print(dq)\n",
    "# Объект deque поддерживает индексацию элементов\n",
    "print(dq[1])\n",
    "# exted - добавить несколько элементов из итерируемого объекта в конец дэка\n",
    "# extedleft - добавить несколько элементов из итерируемого объекта в начало дэка\n",
    "dq.extend([1, 2, 3, 4, 5, 6, 7])\n",
    "dq.extendleft([8, 9, 10, 11, 12, 13, 14])\n",
    "print(dq)\n",
    "# pop - удалить и вернуть элемент из конца дэка\n",
    "# popleft - удалить и вернуть элемент из начала дэка\n",
    "del_first = dq.popleft()\n",
    "print(del_first)\n",
    "# del - удалить конкретный элемент по индексу\n",
    "del dq[0]\n",
    "print(dq)\n",
    "# Необходимость создания очереди с ограниченной максимальной длинной \n",
    "dq_new = deque(maxlen=3)\n",
    "print(dq_new)\n",
    "dq_new_limited = deque([1, 2, 3, 4, 5, 6, 7], maxlen=3)\n",
    "print(dq_new_limited)\n",
    "dq_new_limited.append(8)\n",
    "# Отметка 1: в очередях с ограниченной длиной сохраняются только последние элементы, а первые исчезают из памяти.\n",
    "print(dq_new_limited)\n",
    "# Отметка 2: удаляемый элемент не возвращается, а просто исчезает\n",
    "# меняем порядок элементов в очереди на обратный\n",
    "dq_two = deque(['q', 'w', 'e', 'r', 't'])\n",
    "dq_two.reverse()\n",
    "print(dq_two)\n",
    "# переносим n заданных элементов из конца очереди в начало\n",
    "dq_two.rotate(2)\n",
    "print(dq_two)\n",
    "# или из начала в конец\n",
    "dq_two.rotate(-2)\n",
    "print(dq_two)\n",
    "print (dq_two.index('e'))  # поиск первого идекса искомого элемента\n",
    "print (dq_two.count('r'))  # посчитать сколько раз элемент встретился в очереди\n",
    "dq_two.clear()  # очистить очередь\n",
    "print(dq_two)"
   ]
  },
  {
   "attachments": {},
   "cell_type": "markdown",
   "metadata": {},
   "source": [
    "#### NUMPY"
   ]
  },
  {
   "cell_type": "code",
   "execution_count": 19,
   "metadata": {},
   "outputs": [
    {
     "name": "stdout",
     "output_type": "stream",
     "text": [
      "25\n",
      "<class 'numpy.int8'>\n",
      "Machine parameters for int16\n",
      "---------------------------------------------------------------\n",
      "min = -32768\n",
      "max = 32767\n",
      "---------------------------------------------------------------\n",
      "\n",
      "Machine parameters for int8\n",
      "---------------------------------------------------------------\n",
      "min = -128\n",
      "max = 127\n",
      "---------------------------------------------------------------\n",
      "\n",
      "124\n",
      "<class 'numpy.uint8'>\n",
      "Machine parameters for uint8\n",
      "---------------------------------------------------------------\n",
      "min = 0\n",
      "max = 255\n",
      "---------------------------------------------------------------\n",
      "\n"
     ]
    }
   ],
   "source": [
    "import numpy as np\n",
    "a = np.int8(25)\n",
    "print(a)\n",
    "print(type(a)) # проверка типа данных\n",
    "print(np.iinfo(np.int16)) # узнаем границы int\n",
    "print(np.iinfo(a)) # # узнаем границы int у операнда \"а\"\n",
    "b = np.uint8(124)\n",
    "print(b)\n",
    "print(type(b))\n",
    "print(np.iinfo(b))\n"
   ]
  },
  {
   "attachments": {},
   "cell_type": "markdown",
   "metadata": {},
   "source": [
    "# <center> Библиотека Pandas <center/>"
   ]
  },
  {
   "cell_type": "code",
   "execution_count": 1,
   "metadata": {},
   "outputs": [],
   "source": [
    "import pandas as pd"
   ]
  },
  {
   "attachments": {},
   "cell_type": "markdown",
   "metadata": {},
   "source": [
    "#### SERIES"
   ]
  },
  {
   "cell_type": "code",
   "execution_count": 23,
   "metadata": {},
   "outputs": [
    {
     "name": "stdout",
     "output_type": "stream",
     "text": [
      "Способ 1 - из списка с использованием параметров функции pd.Series():\n"
     ]
    },
    {
     "name": "stderr",
     "output_type": "stream",
     "text": [
      "C:\\Users\\Huawei\\AppData\\Local\\Temp\\ipykernel_26084\\3823817255.py:1: FutureWarning: The default dtype for empty Series will be 'object' instead of 'float64' in a future version. Specify a dtype explicitly to silence this warning.\n",
      "  pd.Series()\n"
     ]
    },
    {
     "data": {
      "text/plain": [
       "UK       Англия\n",
       "CA       Канада\n",
       "US          США\n",
       "RU       Россия\n",
       "UA      Украина\n",
       "BY     Беларусь\n",
       "KZ    Казахстан\n",
       "Name: countries, dtype: object"
      ]
     },
     "metadata": {},
     "output_type": "display_data"
    },
    {
     "name": "stdout",
     "output_type": "stream",
     "text": [
      "Способ 2 — из словаря, в котором ключами являются будущие метки, а значениями — будущие значения Series, при этом использование параметра name также возможно\n"
     ]
    },
    {
     "data": {
      "text/plain": [
       "UK       Англия\n",
       "CA       Канада\n",
       "US          США\n",
       "RU       Россия\n",
       "UA      Украина\n",
       "BY     Беларусь\n",
       "KZ    Казахстан\n",
       "Name: countries, dtype: object"
      ]
     },
     "metadata": {},
     "output_type": "display_data"
    },
    {
     "name": "stdout",
     "output_type": "stream",
     "text": [
      "Пример .loc\n",
      "США\n",
      "\n",
      "US       США\n",
      "RU    Россия\n",
      "UK    Англия\n",
      "Name: countries, dtype: object\n",
      "\n",
      "Пример .iloc\n",
      "Казахстан\n",
      "\n",
      "CA    Канада\n",
      "US       США\n",
      "RU    Россия\n",
      "Name: countries, dtype: object\n"
     ]
    }
   ],
   "source": [
    "pd.Series()\n",
    "# Рассмотрим два способа создания Series\n",
    "# Функция display() является аналогом функции print() в файлах формата.ipynb\n",
    "print('Способ 1 - из списка с использованием параметров функции pd.Series():')\n",
    "countries = pd.Series(\n",
    "    data = ['Англия', 'Канада', 'США', 'Россия', 'Украина', 'Беларусь', 'Казахстан'],\n",
    "    index = ['UK', 'CA', 'US', 'RU', 'UA', 'BY', 'KZ'],\n",
    "    name = 'countries'\n",
    ")\n",
    "display(countries)\n",
    "print('Способ 2 — из словаря, в котором ключами являются будущие метки, а значениями — будущие значения Series, при этом использование параметра name также возможно')\n",
    "countries = pd.Series({\n",
    "    'UK': 'Англия',\n",
    "    'CA': 'Канада',\n",
    "    'US' : 'США',\n",
    "    'RU': 'Россия',\n",
    "    'UA': 'Украина',\n",
    "    'BY': 'Беларусь',\n",
    "    'KZ': 'Казахстан'},\n",
    "    name = 'countries'\n",
    ")\n",
    "display(countries)\n",
    "\n",
    "print('Пример .loc')\n",
    "print(countries.loc['US'])  # Один индекс\n",
    "print()\n",
    "print(countries.loc[['US', 'RU', 'UK']])  # Список\n",
    "print()\n",
    "print('Пример .iloc')\n",
    "print(countries.iloc[6])  # Один индекс\n",
    "print()\n",
    "print(countries.iloc[1:4])  # Диапазон"
   ]
  },
  {
   "attachments": {},
   "cell_type": "markdown",
   "metadata": {},
   "source": [
    "#### DATAFRAME"
   ]
  },
  {
   "cell_type": "code",
   "execution_count": 26,
   "metadata": {},
   "outputs": [
    {
     "name": "stdout",
     "output_type": "stream",
     "text": [
      "Способ 1.\n",
      "Cоздания DataFrame — из словаря, ключами которого являются имена столбцов будущей таблицы, а значениями — списки, в которых хранится содержимое этих столбцов\n"
     ]
    },
    {
     "data": {
      "text/html": [
       "<div>\n",
       "<style scoped>\n",
       "    .dataframe tbody tr th:only-of-type {\n",
       "        vertical-align: middle;\n",
       "    }\n",
       "\n",
       "    .dataframe tbody tr th {\n",
       "        vertical-align: top;\n",
       "    }\n",
       "\n",
       "    .dataframe thead th {\n",
       "        text-align: right;\n",
       "    }\n",
       "</style>\n",
       "<table border=\"1\" class=\"dataframe\">\n",
       "  <thead>\n",
       "    <tr style=\"text-align: right;\">\n",
       "      <th></th>\n",
       "      <th>country</th>\n",
       "      <th>population</th>\n",
       "      <th>square</th>\n",
       "    </tr>\n",
       "  </thead>\n",
       "  <tbody>\n",
       "    <tr>\n",
       "      <th>UK</th>\n",
       "      <td>Англия</td>\n",
       "      <td>56.29</td>\n",
       "      <td>133396</td>\n",
       "    </tr>\n",
       "    <tr>\n",
       "      <th>CA</th>\n",
       "      <td>Канада</td>\n",
       "      <td>38.05</td>\n",
       "      <td>9984670</td>\n",
       "    </tr>\n",
       "    <tr>\n",
       "      <th>US</th>\n",
       "      <td>США</td>\n",
       "      <td>322.28</td>\n",
       "      <td>9826630</td>\n",
       "    </tr>\n",
       "    <tr>\n",
       "      <th>RU</th>\n",
       "      <td>Россия</td>\n",
       "      <td>146.24</td>\n",
       "      <td>17125191</td>\n",
       "    </tr>\n",
       "    <tr>\n",
       "      <th>UA</th>\n",
       "      <td>Украина</td>\n",
       "      <td>45.50</td>\n",
       "      <td>603628</td>\n",
       "    </tr>\n",
       "    <tr>\n",
       "      <th>BY</th>\n",
       "      <td>Беларусь</td>\n",
       "      <td>9.50</td>\n",
       "      <td>207600</td>\n",
       "    </tr>\n",
       "    <tr>\n",
       "      <th>KZ</th>\n",
       "      <td>Казахстан</td>\n",
       "      <td>17.04</td>\n",
       "      <td>2724902</td>\n",
       "    </tr>\n",
       "  </tbody>\n",
       "</table>\n",
       "</div>"
      ],
      "text/plain": [
       "      country  population    square\n",
       "UK     Англия       56.29    133396\n",
       "CA     Канада       38.05   9984670\n",
       "US        США      322.28   9826630\n",
       "RU     Россия      146.24  17125191\n",
       "UA    Украина       45.50    603628\n",
       "BY   Беларусь        9.50    207600\n",
       "KZ  Казахстан       17.04   2724902"
      ]
     },
     "metadata": {},
     "output_type": "display_data"
    },
    {
     "name": "stdout",
     "output_type": "stream",
     "text": [
      "\n",
      "Способ 2.\n",
      "Создание DataFrame - из вложенного списка, внутренние списки которого будут являться строками новой таблицы\n"
     ]
    },
    {
     "data": {
      "text/html": [
       "<div>\n",
       "<style scoped>\n",
       "    .dataframe tbody tr th:only-of-type {\n",
       "        vertical-align: middle;\n",
       "    }\n",
       "\n",
       "    .dataframe tbody tr th {\n",
       "        vertical-align: top;\n",
       "    }\n",
       "\n",
       "    .dataframe thead th {\n",
       "        text-align: right;\n",
       "    }\n",
       "</style>\n",
       "<table border=\"1\" class=\"dataframe\">\n",
       "  <thead>\n",
       "    <tr style=\"text-align: right;\">\n",
       "      <th></th>\n",
       "      <th>country</th>\n",
       "      <th>population</th>\n",
       "      <th>square</th>\n",
       "    </tr>\n",
       "  </thead>\n",
       "  <tbody>\n",
       "    <tr>\n",
       "      <th>UK</th>\n",
       "      <td>Англия</td>\n",
       "      <td>56.29</td>\n",
       "      <td>133396</td>\n",
       "    </tr>\n",
       "    <tr>\n",
       "      <th>CA</th>\n",
       "      <td>Канада</td>\n",
       "      <td>38.05</td>\n",
       "      <td>9984670</td>\n",
       "    </tr>\n",
       "    <tr>\n",
       "      <th>US</th>\n",
       "      <td>США</td>\n",
       "      <td>322.28</td>\n",
       "      <td>9826630</td>\n",
       "    </tr>\n",
       "    <tr>\n",
       "      <th>RU</th>\n",
       "      <td>Россия</td>\n",
       "      <td>146.24</td>\n",
       "      <td>17125191</td>\n",
       "    </tr>\n",
       "    <tr>\n",
       "      <th>UA</th>\n",
       "      <td>Украина</td>\n",
       "      <td>45.50</td>\n",
       "      <td>603628</td>\n",
       "    </tr>\n",
       "    <tr>\n",
       "      <th>BY</th>\n",
       "      <td>Беларусь</td>\n",
       "      <td>9.50</td>\n",
       "      <td>207600</td>\n",
       "    </tr>\n",
       "    <tr>\n",
       "      <th>KZ</th>\n",
       "      <td>Казахстан</td>\n",
       "      <td>17.04</td>\n",
       "      <td>2724902</td>\n",
       "    </tr>\n",
       "  </tbody>\n",
       "</table>\n",
       "</div>"
      ],
      "text/plain": [
       "      country  population    square\n",
       "UK     Англия       56.29    133396\n",
       "CA     Канада       38.05   9984670\n",
       "US        США      322.28   9826630\n",
       "RU     Россия      146.24  17125191\n",
       "UA    Украина       45.50    603628\n",
       "BY   Беларусь        9.50    207600\n",
       "KZ  Казахстан       17.04   2724902"
      ]
     },
     "metadata": {},
     "output_type": "display_data"
    },
    {
     "data": {
      "text/plain": [
       "'Считаем среднее по строкам(axis = 0) в каждом столбце:'"
      ]
     },
     "metadata": {},
     "output_type": "display_data"
    },
    {
     "name": "stderr",
     "output_type": "stream",
     "text": [
      "C:\\Users\\Huawei\\AppData\\Local\\Temp\\ipykernel_26084\\569574100.py:30: FutureWarning: The default value of numeric_only in DataFrame.mean is deprecated. In a future version, it will default to False. In addition, specifying 'numeric_only=None' is deprecated. Select only valid columns or specify the value of numeric_only to silence this warning.\n",
      "  display(countries_df.mean(axis=0))\n"
     ]
    },
    {
     "data": {
      "text/plain": [
       "population    9.070000e+01\n",
       "square        5.800860e+06\n",
       "dtype: float64"
      ]
     },
     "metadata": {},
     "output_type": "display_data"
    },
    {
     "data": {
      "text/plain": [
       "'Считаем среднее по столбцам(axis = 1) в каждой строке'"
      ]
     },
     "metadata": {},
     "output_type": "display_data"
    },
    {
     "name": "stderr",
     "output_type": "stream",
     "text": [
      "C:\\Users\\Huawei\\AppData\\Local\\Temp\\ipykernel_26084\\569574100.py:33: FutureWarning: Dropping of nuisance columns in DataFrame reductions (with 'numeric_only=None') is deprecated; in a future version this will raise TypeError.  Select only valid columns before calling the reduction.\n",
      "  display(countries_df.mean(axis=1))\n"
     ]
    },
    {
     "data": {
      "text/plain": [
       "UK      66726.145\n",
       "CA    4992354.025\n",
       "US    4913476.140\n",
       "RU    8562668.620\n",
       "UA     301836.750\n",
       "BY     103804.750\n",
       "KZ    1362459.520\n",
       "dtype: float64"
      ]
     },
     "metadata": {},
     "output_type": "display_data"
    },
    {
     "data": {
      "text/plain": [
       "'Обращаемся к DataFrame по имени столбца через точку:'"
      ]
     },
     "metadata": {},
     "output_type": "display_data"
    },
    {
     "data": {
      "text/plain": [
       "UK     56.29\n",
       "CA     38.05\n",
       "US    322.28\n",
       "RU    146.24\n",
       "UA     45.50\n",
       "BY      9.50\n",
       "KZ     17.04\n",
       "Name: population, dtype: float64"
      ]
     },
     "metadata": {},
     "output_type": "display_data"
    },
    {
     "name": "stdout",
     "output_type": "stream",
     "text": [
      "Обращаемся к DataFrame по индексу и указанием имени столбца:\n",
      "UK     56.29\n",
      "CA     38.05\n",
      "US    322.28\n",
      "RU    146.24\n",
      "UA     45.50\n",
      "BY      9.50\n",
      "KZ     17.04\n",
      "Name: population, dtype: float64\n",
      "\n",
      "Несколько примеров использования loc и iloc:\n"
     ]
    },
    {
     "data": {
      "text/plain": [
       "133396"
      ]
     },
     "metadata": {},
     "output_type": "display_data"
    },
    {
     "name": "stdout",
     "output_type": "stream",
     "text": [
      "\n"
     ]
    },
    {
     "data": {
      "text/plain": [
       "population      146.24\n",
       "square        17125191\n",
       "Name: RU, dtype: object"
      ]
     },
     "metadata": {},
     "output_type": "display_data"
    },
    {
     "name": "stdout",
     "output_type": "stream",
     "text": [
      "\n"
     ]
    },
    {
     "data": {
      "text/html": [
       "<div>\n",
       "<style scoped>\n",
       "    .dataframe tbody tr th:only-of-type {\n",
       "        vertical-align: middle;\n",
       "    }\n",
       "\n",
       "    .dataframe tbody tr th {\n",
       "        vertical-align: top;\n",
       "    }\n",
       "\n",
       "    .dataframe thead th {\n",
       "        text-align: right;\n",
       "    }\n",
       "</style>\n",
       "<table border=\"1\" class=\"dataframe\">\n",
       "  <thead>\n",
       "    <tr style=\"text-align: right;\">\n",
       "      <th></th>\n",
       "      <th>population</th>\n",
       "      <th>square</th>\n",
       "    </tr>\n",
       "  </thead>\n",
       "  <tbody>\n",
       "    <tr>\n",
       "      <th>UA</th>\n",
       "      <td>45.50</td>\n",
       "      <td>603628</td>\n",
       "    </tr>\n",
       "    <tr>\n",
       "      <th>BY</th>\n",
       "      <td>9.50</td>\n",
       "      <td>207600</td>\n",
       "    </tr>\n",
       "    <tr>\n",
       "      <th>KZ</th>\n",
       "      <td>17.04</td>\n",
       "      <td>2724902</td>\n",
       "    </tr>\n",
       "  </tbody>\n",
       "</table>\n",
       "</div>"
      ],
      "text/plain": [
       "    population   square\n",
       "UA       45.50   603628\n",
       "BY        9.50   207600\n",
       "KZ       17.04  2724902"
      ]
     },
     "metadata": {},
     "output_type": "display_data"
    },
    {
     "name": "stdout",
     "output_type": "stream",
     "text": [
      "\n"
     ]
    },
    {
     "data": {
      "text/html": [
       "<div>\n",
       "<style scoped>\n",
       "    .dataframe tbody tr th:only-of-type {\n",
       "        vertical-align: middle;\n",
       "    }\n",
       "\n",
       "    .dataframe tbody tr th {\n",
       "        vertical-align: top;\n",
       "    }\n",
       "\n",
       "    .dataframe thead th {\n",
       "        text-align: right;\n",
       "    }\n",
       "</style>\n",
       "<table border=\"1\" class=\"dataframe\">\n",
       "  <thead>\n",
       "    <tr style=\"text-align: right;\">\n",
       "      <th></th>\n",
       "      <th>population</th>\n",
       "      <th>square</th>\n",
       "    </tr>\n",
       "  </thead>\n",
       "  <tbody>\n",
       "    <tr>\n",
       "      <th>UA</th>\n",
       "      <td>45.50</td>\n",
       "      <td>603628</td>\n",
       "    </tr>\n",
       "    <tr>\n",
       "      <th>BY</th>\n",
       "      <td>9.50</td>\n",
       "      <td>207600</td>\n",
       "    </tr>\n",
       "    <tr>\n",
       "      <th>KZ</th>\n",
       "      <td>17.04</td>\n",
       "      <td>2724902</td>\n",
       "    </tr>\n",
       "  </tbody>\n",
       "</table>\n",
       "</div>"
      ],
      "text/plain": [
       "    population   square\n",
       "UA       45.50   603628\n",
       "BY        9.50   207600\n",
       "KZ       17.04  2724902"
      ]
     },
     "metadata": {},
     "output_type": "display_data"
    }
   ],
   "source": [
    "pd.DataFrame() # создание функции DataFrame\n",
    "print('Способ 1.') \n",
    "print('Cоздания DataFrame — из словаря, ключами которого являются имена столбцов будущей таблицы, а значениями — списки, в которых хранится содержимое этих столбцов')\n",
    "countries_df = pd.DataFrame({\n",
    "    'country': ['Англия', 'Канада', 'США', 'Россия', 'Украина', 'Беларусь', 'Казахстан'],\n",
    "    'population': [56.29, 38.05, 322.28, 146.24, 45.5, 9.5, 17.04],\n",
    "    'square': [133396, 9984670, 9826630, 17125191, 603628, 207600, 2724902]\n",
    "})\n",
    "countries_df.index = ['UK', 'CA', 'US', 'RU', 'UA', 'BY', 'KZ']\n",
    "display(countries_df)\n",
    "print()\n",
    "print('Способ 2.')\n",
    "print('Создание DataFrame - из вложенного списка, внутренние списки которого будут являться строками новой таблицы')\n",
    "countries_df = pd.DataFrame(\n",
    "    data = [\n",
    "        ['Англия', 56.29, 133396],\n",
    "        ['Канада', 38.05, 9984670],\n",
    "        ['США', 322.28, 9826630],\n",
    "        ['Россия', 146.24, 17125191],\n",
    "        ['Украина', 45.5, 603628],\n",
    "        ['Беларусь', 9.5, 207600],\n",
    "        ['Казахстан', 17.04, 2724902]\n",
    "    ],\n",
    "    columns= ['country', 'population', 'square'],\n",
    "    index = ['UK', 'CA', 'US', 'RU', 'UA', 'BY', 'KZ']\n",
    ")\n",
    "display(countries_df)\n",
    "\n",
    "display('Считаем среднее по строкам(axis = 0) в каждом столбце:')\n",
    "display(countries_df.mean(axis=0))\n",
    "display()\n",
    "display('Считаем среднее по столбцам(axis = 1) в каждой строке')\n",
    "display(countries_df.mean(axis=1))\n",
    "display()\n",
    "display('Обращаемся к DataFrame по имени столбца через точку:')\n",
    "display(countries_df.population)\n",
    "\n",
    "print('Обращаемся к DataFrame по индексу и указанием имени столбца:')\n",
    "print(countries_df['population'])\n",
    "print()\n",
    "print('Несколько примеров использования loc и iloc:')\n",
    "display(countries_df.loc['UK', 'square'])\n",
    "print()\n",
    "display(countries_df.loc['RU', ['population', 'square']])\n",
    "print()\n",
    "display(countries_df.loc[['UA', 'BY', 'KZ'],['population', 'square']])\n",
    "print()\n",
    "display(countries_df.iloc[4:8, 1:3])"
   ]
  },
  {
   "attachments": {},
   "cell_type": "markdown",
   "metadata": {},
   "source": [
    "# <center> Работа с DataFrame <center/>\n",
    "#### **read_csv**              \n",
    "\n",
    "- C диска:\n",
    "\n",
    "`(pd.read_csv('C:\\\\Users\\\\admin\\\\countries.csv', sep=';'))`\n",
    "\n",
    "- По ссылке\n",
    "\n",
    "`pd.read_csv('https://raw.githubusercontent.com/esabunor/melb_data.csv')`\n",
    "\n",
    "\n",
    "```python\n",
    "- filepath_or_buffer — путь до файла, который мы читаем;\n",
    "- sep — разделитель данных (по умолчанию ',');\n",
    "- decimal — разделитель чисел на целую и дробную часть в выходном файле (по умолчанию '.');\n",
    "- names — список с названиями столбцов для чтения;\n",
    "- skiprows — количество строк в файле, которые нужно пропустить (например, файл может содержать служебную информацию, которая нам не нужна).\n",
    "```\n",
    "\n",
    "- Методы для записи таблиц **в файлы отличных** от csv форматов:\n",
    "\n",
    "```python\n",
    "- to_excel() — запись DataFrame в формат Excel-таблицы (.xlsx);\n",
    "- to_json() — запись DataFrame в формат JSON (.json);\n",
    "- to_xml() — запись DataFrame в формат XML-документа (.xml);\n",
    "- to_sql() — запись DataFrame в базу данных SQL (для реализации этого метода необходимо установить соединение с базой данных).\n",
    "```\n",
    "\n",
    "- Методы для чтения таблиц **из файлов в отличных** от csv форматах:\n",
    "\n",
    "```python\n",
    "- read_excel() — чтение из формата Excel-таблицы (.xlsx) в DataFrame;\n",
    "- read_json() — чтение из формата JSON (.json) в DataFrame;\n",
    "- read_xml() — чтение из формата XML-документа (.xml) в DataFrame;\n",
    "- read_sql() — чтение из базы данных SQL в DataFrame (также необходимо установить соединение с базой данных).\n",
    "```"
   ]
  },
  {
   "attachments": {},
   "cell_type": "markdown",
   "metadata": {},
   "source": [
    "##### **Основные комманды исследования структуры данных DataFrame:**\n",
    "\n",
    "\n",
    "```python\n",
    "- df.head(5) - вывод первых 5 строк таблицы;\n",
    "- df.tail(5) -  вывод последних 5 строк таблицы;\n",
    "- df.shape - узнаем размерность таблицы (df.shape[0] - строки; df.shape[1] - столбцы);\n",
    "- df.info() - информация по наименованию колонок, количеству, типу, весу;\n",
    "- astype('название типа') - меняем тип столбца (df['Car'] = df['Car'].astype('int64')).\n",
    "```\n",
    "\n",
    "##### **Описательная статистика структуры данных DataFrame:**\n",
    "\n",
    "```python\n",
    "- df.describe() - выдает по столбцу (count, mean, std, min, 25%, 50%, 75%, max)\n",
    "- df['column'].value_counts() - сколько раз в столбце повторяется каждый из вариантов значений\n",
    "- df['column']value_counts().index.tolist() - преобразовываем список столбцов, которые были показаны в результате вызова метода `.value_counts()`\n",
    "- df.columns - выписать в качестве все колонки, чтобы в качестве списка то так `list(df_hh.columns)`\n",
    "- df_new = df[['A', 'C']] - выписать несколько колонок из dataframe\n",
    "```\n",
    "\n",
    "##### **Статистические параметры:**\n",
    "\n",
    "```python\n",
    "- .count()\tКоличество непустых значений;\n",
    "- .mean()\tСреднее значение;\n",
    "- .min()\tМинимальное значение;\n",
    "- .max()\tМаксимальное значение;\n",
    "- .var()\tДисперсия;\n",
    "- .std()\tСтандартное отклонение;\n",
    "- .sum()\tСумма;\n",
    "- .quantile(x)\tКвантиль уровня x;\n",
    "- .nunique()\tЧисло уникальных значений;\n",
    "- .median()  Медиана;\n",
    "- .mode()  Модальное значение.\n",
    "```\n",
    "\n",
    "- Дополнительные параметры:\n",
    "\n",
    "```python\n",
    "- axis  — определяет, подсчитывать параметр по строкам или по столбцам;\n",
    "- numeric_only — определяет, вычислять параметры только по числовым столбцам/строкам или нет (True/False).\n",
    "```\n",
    "\n",
    "##### **Фильтрация данных (примеры):**\n",
    "\n",
    "\n",
    "\n",
    "```python\n",
    "# Cкольких объектов недвижимости из таблицы melb_data отсутствуют ванные комнаты?\n",
    "melb_data[melb_data['Bathroom'] == 0].shape[0]\n",
    "\n",
    "# Cколько в таблице melb_data объектов недвижимости, которые были проданы риелторской компанией Nelson.\n",
    "# И стоимость которых составила больше 3 миллионов?\n",
    "melb_data[(melb_data['SellerG'] == 'Nelson') & (melb_data['Price'] > 3000000)].shape[0]\n",
    "\n",
    "# Какова минимальная стоимость участка без здания (площадь здания равна 0) в таблице melb_data?\n",
    "melb_data[melb_data['BuildingArea'] == 0]['Price'].min()\n",
    "\n",
    "# Интересуемся домами с ценой менее 300 тысяч, у которых либо число комнат равно 3 либо площадь домов более 100 квадратных метров\n",
    "melb_data[((melb_data['Rooms'] == 3) | (melb_data['BuildingArea'] > 100)) & (melb_data['Price'] < 300000)].shape[0]\n",
    "\n",
    "# В каком районе Мельбурна чаще всего продаются виллы и коттеджи (тип здания — h) с ценой меньше трёх миллионов?\n",
    "melb_data[(melb_data['Type'] == 'h') & (melb_data['Price'] < 3000000)]['Regionname'].mode()\n",
    "\n",
    "# Найдём максимальное количество комнат в таунхаусах.\n",
    "melb_data[melb_data['Type'] == 'taunhouse']['Rooms'].max()\n",
    "\n",
    "# Найдём медианную площадь здания у объектов, чья цена выше средней.\n",
    "mean_price = melb_data['Price'].mean()\n",
    "melb_data[melb_data['Price'] > mean_price]['BuildingArea'].median()\n",
    "```\n"
   ]
  },
  {
   "attachments": {},
   "cell_type": "markdown",
   "metadata": {},
   "source": [
    "##### **Базовые приёмы работы с DataFrame:**\n",
    "\n",
    "```python\n",
    "- df.copy() - создаём копию DataFrame;\n",
    "- df.drop(['column_1, column_2', labels - номер или имя стобца], axis -  ось[0 - строка, 1- столбец], inplace - True - замена DataFrame на новый or False - возврат копии DataFrame) - удаляем столбцы / строки в DataFrame;\n",
    "- df['Address'].loc[153] - узнаем что в данном столбце под строкой № 153; \n",
    "- .nlargest(n) - возвращает n наибольших значений, пример (car = df.value_counts().nlargest(10).index);\n",
    "```\n",
    "\n",
    "##### **Признаки даты и времени:**\n",
    "\n",
    "`- pd.to_datetime(df['Date'], dayfirst = True) - изменяем на тип данных datetime64`\n",
    "\n",
    "- Выделение атрибутов Datetime\n",
    "\n",
    "\n",
    "```python\n",
    "- df['Date'].dt.date — дата;\n",
    "- df['Date'].dt.year, month, day — год, месяц, день;\n",
    "- df['Date'].dt.time — время;\n",
    "- df['Date'].dt.hour, minute, second — час, минута, секунда;\n",
    "- df['Date'].dt.dayofweek — номер дня недели, от 0 до 6, где 0 — понедельник, 6 — воскресенье;\n",
    "- df['Date'].dt.day_name — название дня недели;\n",
    "- df['Date'].dt.dayofyear — порядковый день года;\n",
    "- df['Date'].dt.quarter — квартал (интервал в три месяца).\n",
    "```\n",
    "\n",
    "Например, обратившись по атрибуту dt.year в столбце Date, мы можем «достать» год продажи и понять, за какой интервал времени (в годах) представлены наши данные, а также на какой год приходится наибольшее число продаж:\n",
    "\n",
    "\n",
    "```python\n",
    "years_sold = melb_df['Date'].dt.year\n",
    "print(years_sold)\n",
    "print('Min year sold:', years_sold.min())\n",
    "print('Max year sold:', years_sold.max())\n",
    "print('Mode year sold:', years_sold.mode()[0])\n",
    "```\n"
   ]
  },
  {
   "attachments": {},
   "cell_type": "markdown",
   "metadata": {},
   "source": [
    "#### **Категорийные данные CATEGORY в примерах:**\n",
    "\n",
    "- Сделаем преобразование столбцов к типу данных category:\n",
    "\n",
    "```python\n",
    "cols_to_exclude = ['Date', 'Rooms', 'Bedroom', 'Bathroom', 'Car'] # Список столбцов, которые мы не берём во внимание\n",
    "max_unique_count = 150 # задаём максимальное число уникальных категорий\n",
    "for col in melb_df.columns: # цикл по именам стобцов\n",
    "    if melb_df[col].nunique() < max_unique_count and col not in cols_to_exclude: # проверяем условие\n",
    "        melb_df[col] = melb_df[col].astype('category') # преобразуем тип столбца\n",
    "display(melb_df.info())\n",
    "```\n",
    "\n",
    "- Разберём код подробнее:\n",
    "\n",
    "1. Задаём список столбцов, которые мы не берём в рассмотрение (cols_to_exclude), а также условленный нами ранее порог уникальных значений столбца max_unique_count.\n",
    "\n",
    "2. В цикле перебираем имена столбцов, и, если число уникальных категорий меньше заданного порога и имён столбцов нет в списке cols_to_exclude, то с помощью метода astype() приводим столбец к типу данных category.\n",
    "\n",
    "3. Итоговый объём памяти — 1.9 Мб. В результате такого преобразования объём памяти, занимаемый таблицей, уменьшился почти в 1.5 раза. Это впечатляет!\n",
    "\n",
    "- C помощью атрибута этого аксессора categories мы можем получить список уникальных категорий в столбце Regionname:\n",
    "\n",
    "\n",
    "```python\n",
    "print(melb_df['Type'].cat.categories, melb_df['Regionname'].cat.categories, sep = '\\n \\n')\n",
    "\n",
    "# Index(['h', 't', 'u'], dtype='object')\n",
    " \n",
    "# Index(['Eastern Metropolitan', 'Eastern Victoria', 'Northern Metropolitan',\n",
    "#       'Northern Victoria', 'South-Eastern Metropolitan',\n",
    "#       'Southern Metropolitan', 'Western Metropolitan', 'Western Victoria'],\n",
    "#      dtype='object')\n",
    "```\n",
    "\n",
    "- С помощью метода аксессора rename_categories() можно легко переименовать текущие значения категорий. Для этого в данный метод нужно передать словарь, ключи которого — старые имена категорий, а значения — новые.\n",
    "\n",
    "Рассмотрим на примере: переименуем категории признака типа постройки Type — заменим их на полные названия (напомним, u — unit, h — house, t — townhouse).\n",
    "\n",
    "\n",
    "```python\n",
    "melb_df['Type'] = melb_df['Type'].cat.rename_categories({\n",
    "    'u': 'unit',\n",
    "    't': 'townhouse',\n",
    "    'h': 'house'\n",
    "})\n",
    "display(melb_df['Type'])\n",
    "```\n"
   ]
  },
  {
   "cell_type": "code",
   "execution_count": null,
   "metadata": {},
   "outputs": [],
   "source": [
    "####"
   ]
  }
 ],
 "metadata": {
  "kernelspec": {
   "display_name": "Python 3",
   "language": "python",
   "name": "python3"
  },
  "language_info": {
   "codemirror_mode": {
    "name": "ipython",
    "version": 3
   },
   "file_extension": ".py",
   "mimetype": "text/x-python",
   "name": "python",
   "nbconvert_exporter": "python",
   "pygments_lexer": "ipython3",
   "version": "3.10.11"
  },
  "orig_nbformat": 4
 },
 "nbformat": 4,
 "nbformat_minor": 2
}
